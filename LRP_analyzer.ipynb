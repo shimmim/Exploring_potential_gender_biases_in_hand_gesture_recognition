{
 "cells": [
  {
   "cell_type": "code",
   "execution_count": 8,
   "id": "c39cc555",
   "metadata": {},
   "outputs": [],
   "source": [
    "import numpy as np\n",
    "import tensorflow as tf\n",
    "from tensorflow import keras\n",
    "import innvestigate\n",
    "import os\n",
    "tf.compat.v1.disable_eager_execution()"
   ]
  },
  {
   "cell_type": "code",
   "execution_count": 9,
   "id": "0c3145c1",
   "metadata": {},
   "outputs": [],
   "source": [
    "from __future__ import annotations\n",
    "\n",
    "import inspect\n",
    "\n",
    "import tensorflow.keras.backend as kbackend\n",
    "import tensorflow.keras.layers as klayers\n",
    "\n",
    "import innvestigate.analyzer.relevance_based.relevance_rule as rrule\n",
    "import innvestigate.analyzer.relevance_based.utils as rutils\n",
    "import innvestigate.analyzer.relevance_based.relevance_analyzer as ianalyzer\n",
    "import innvestigate.analyzer.relevance_based.relevance_rule as irules\n",
    "import innvestigate.backend as ibackend\n",
    "import innvestigate.backend.checks as ichecks\n",
    "import innvestigate.backend.graph as igraph\n",
    "from innvestigate.analyzer.network_base import AnalyzerNetworkBase\n",
    "from innvestigate.analyzer.reverse_base import ReverseAnalyzerBase\n",
    "from innvestigate.analyzer import LRP\n",
    "from innvestigate.backend.types import Layer, LayerCheck, Model, OptionalList, Tensor"
   ]
  },
  {
   "cell_type": "code",
   "execution_count": 10,
   "id": "d06811d2",
   "metadata": {},
   "outputs": [
    {
     "name": "stderr",
     "output_type": "stream",
     "text": [
      "2023-06-03 13:21:30.530885: W tensorflow/c/c_api.cc:291] Operation '{name:'AssignVariableOp_26' id:529 op device:{requested: '/device:CPU:0', assigned: ''} def:{{{node AssignVariableOp_26}} = AssignVariableOp[_has_manual_control_dependencies=true, dtype=DT_FLOAT, validate_shape=false, _device=\"/device:CPU:0\"](count_3, Identity_26)}}' was changed by setting attribute after it was run by a session. This mutation will have no effect, and will trigger an error in the future. Either don't modify nodes after running them or create a new session.\n"
     ]
    }
   ],
   "source": [
    "loadedModel = keras.models.load_model(\"CNN_model\")\n"
   ]
  },
  {
   "cell_type": "code",
   "execution_count": 11,
   "id": "430ff44e",
   "metadata": {},
   "outputs": [],
   "source": [
    "noSoftMaxModel = innvestigate.model_wo_softmax(loadedModel)"
   ]
  },
  {
   "cell_type": "code",
   "execution_count": 12,
   "id": "e56f2b2b",
   "metadata": {},
   "outputs": [],
   "source": [
    "analyzer = LRP(noSoftMaxModel,rule=\"Z,Epsilon,Alpha1Beta0\",input_layer_rule=\"Bounded\",until_layer_idx=5,until_layer_rule=\"Gamma\",bn_layer_rule=\"Z\")"
   ]
  },
  {
   "cell_type": "code",
   "execution_count": 25,
   "id": "b2a72b95",
   "metadata": {},
   "outputs": [],
   "source": [
    "folders = [\"00\",\"01\",\"02\",\"03\",\"04\",\"05\",\"06\",\"07\",\"08\",\"09\"]\n",
    "CATEGORIES = [\"01_palm\", '02_l','03_fist','04_fist_moved','05_thumb','06_index','07_ok','08_palm_moved','09_c','10_down']\n",
    "IMG_SIZE = 50\n",
    "\n",
    "# paths for dataset\n",
    "data_path = \"../kaggle_data\"\n",
    "\n",
    "# Loading the images and their class(0 - 9)\n",
    "# Loading the images and their class(0 - 9)\n",
    "image_data = []\n",
    "for dr in folders:\n",
    "    for category in CATEGORIES:\n",
    "        class_index = CATEGORIES.index(category)\n",
    "        path = os.path.join(data_path, dr, category)\n",
    "        for img in os.listdir(path):\n",
    "            try:\n",
    "                img_arr = cv2.imread(os.path.join(path, img), cv2.IMREAD_GRAYSCALE)\n",
    "                image_data.append([cv2.resize(img_arr, (IMG_SIZE, IMG_SIZE)), class_index])\n",
    "            except Exception as e:\n",
    "                pass\n"
   ]
  },
  {
   "cell_type": "code",
   "execution_count": 27,
   "id": "0b5b128d",
   "metadata": {},
   "outputs": [
    {
     "ename": "IndexError",
     "evalue": "list index out of range",
     "output_type": "error",
     "traceback": [
      "\u001b[0;31m---------------------------------------------------------------------------\u001b[0m",
      "\u001b[0;31mIndexError\u001b[0m                                Traceback (most recent call last)",
      "Cell \u001b[0;32mIn[27], line 1\u001b[0m\n\u001b[0;32m----> 1\u001b[0m \u001b[43mimage_data\u001b[49m\u001b[43m[\u001b[49m\u001b[38;5;241;43m0\u001b[39;49m\u001b[43m]\u001b[49m\n",
      "\u001b[0;31mIndexError\u001b[0m: list index out of range"
     ]
    }
   ],
   "source": [
    "image_data[0]"
   ]
  },
  {
   "cell_type": "code",
   "execution_count": 14,
   "id": "113da864",
   "metadata": {},
   "outputs": [],
   "source": [
    "from tensorflow.keras.applications import vgg16\n",
    "from tensorflow.keras.applications import resnet50\n",
    "from tensorflow.keras.applications import inception_v3\n",
    "from tensorflow.keras.applications import densenet\n",
    "\n",
    "preprocess = vgg16.preprocess_input"
   ]
  },
  {
   "cell_type": "code",
   "execution_count": 269,
   "id": "77228edb",
   "metadata": {},
   "outputs": [],
   "source": [
    "ppin=image_data[0]\n",
    "pp = vgg16.preprocess_input(ppin[0])\n",
    "a = analyzer.analyze(pp)"
   ]
  },
  {
   "cell_type": "code",
   "execution_count": null,
   "id": "4519c403",
   "metadata": {},
   "outputs": [],
   "source": []
  },
  {
   "cell_type": "markdown",
   "id": "51db41b3",
   "metadata": {},
   "source": [
    "Analyze image"
   ]
  },
  {
   "cell_type": "code",
   "execution_count": 271,
   "id": "7d315b89",
   "metadata": {},
   "outputs": [
    {
     "ename": "AttributeError",
     "evalue": "'numpy.ndarray' object has no attribute 'layers'",
     "output_type": "error",
     "traceback": [
      "\u001b[0;31m---------------------------------------------------------------------------\u001b[0m",
      "\u001b[0;31mAttributeError\u001b[0m                            Traceback (most recent call last)",
      "Cell \u001b[0;32mIn[271], line 4\u001b[0m\n\u001b[1;32m      1\u001b[0m \u001b[38;5;66;03m# Add batch axis and preprocess\u001b[39;00m\n\u001b[1;32m      2\u001b[0m \u001b[38;5;66;03m#x = preprocess(ppin)\u001b[39;00m\n\u001b[1;32m      3\u001b[0m \u001b[38;5;66;03m# Apply analyzer w.r.t. maximum activated output-neuron\u001b[39;00m\n\u001b[0;32m----> 4\u001b[0m a \u001b[38;5;241m=\u001b[39m \u001b[43manalyzer\u001b[49m\u001b[38;5;241;43m.\u001b[39;49m\u001b[43m_create_analysis\u001b[49m\u001b[43m(\u001b[49m\u001b[43mpp\u001b[49m\u001b[43m)\u001b[49m\n\u001b[1;32m      6\u001b[0m \u001b[38;5;66;03m# Aggregate along color channels and normalize to [-1, 1]\u001b[39;00m\n\u001b[1;32m      7\u001b[0m a \u001b[38;5;241m=\u001b[39m a\u001b[38;5;241m.\u001b[39msum(axis\u001b[38;5;241m=\u001b[39mnp\u001b[38;5;241m.\u001b[39margmax(np\u001b[38;5;241m.\u001b[39masarray(a\u001b[38;5;241m.\u001b[39mshape) \u001b[38;5;241m==\u001b[39m \u001b[38;5;241m3\u001b[39m))\n",
      "File \u001b[0;32m~/.local/lib/python3.9/site-packages/innvestigate/analyzer/relevance_based/relevance_analyzer.py:488\u001b[0m, in \u001b[0;36mLRP._create_analysis\u001b[0;34m(self, *args, **kwargs)\u001b[0m\n\u001b[1;32m    481\u001b[0m \u001b[38;5;28mself\u001b[39m\u001b[38;5;241m.\u001b[39m_add_conditional_reverse_mapping(\n\u001b[1;32m    482\u001b[0m     ichecks\u001b[38;5;241m.\u001b[39mis_embedding_layer,\n\u001b[1;32m    483\u001b[0m     EmbeddingReverseLayer,\n\u001b[1;32m    484\u001b[0m     name\u001b[38;5;241m=\u001b[39m\u001b[38;5;124m\"\u001b[39m\u001b[38;5;124mlrp_embedding_mapping\u001b[39m\u001b[38;5;124m\"\u001b[39m,\n\u001b[1;32m    485\u001b[0m )\n\u001b[1;32m    487\u001b[0m \u001b[38;5;66;03m# FINALIZED constructor.\u001b[39;00m\n\u001b[0;32m--> 488\u001b[0m \u001b[38;5;28;01mreturn\u001b[39;00m \u001b[38;5;28;43msuper\u001b[39;49m\u001b[43m(\u001b[49m\u001b[43m)\u001b[49m\u001b[38;5;241;43m.\u001b[39;49m\u001b[43m_create_analysis\u001b[49m\u001b[43m(\u001b[49m\u001b[38;5;241;43m*\u001b[39;49m\u001b[43margs\u001b[49m\u001b[43m,\u001b[49m\u001b[43m \u001b[49m\u001b[38;5;241;43m*\u001b[39;49m\u001b[38;5;241;43m*\u001b[39;49m\u001b[43mkwargs\u001b[49m\u001b[43m)\u001b[49m\n",
      "File \u001b[0;32m~/.local/lib/python3.9/site-packages/innvestigate/analyzer/reverse_base.py:269\u001b[0m, in \u001b[0;36mReverseAnalyzerBase._create_analysis\u001b[0;34m(self, model, stop_analysis_at_tensors)\u001b[0m\n\u001b[1;32m    261\u001b[0m return_all_reversed_tensors \u001b[38;5;241m=\u001b[39m (\n\u001b[1;32m    262\u001b[0m     \u001b[38;5;28mself\u001b[39m\u001b[38;5;241m.\u001b[39m_reverse_check_min_max_values\n\u001b[1;32m    263\u001b[0m     \u001b[38;5;129;01mor\u001b[39;00m \u001b[38;5;28mself\u001b[39m\u001b[38;5;241m.\u001b[39m_reverse_check_finite\n\u001b[1;32m    264\u001b[0m     \u001b[38;5;129;01mor\u001b[39;00m \u001b[38;5;28mself\u001b[39m\u001b[38;5;241m.\u001b[39m_reverse_keep_tensors\n\u001b[1;32m    265\u001b[0m )\n\u001b[1;32m    267\u001b[0m \u001b[38;5;66;03m# if return_all_reversed_tensors is False,\u001b[39;00m\n\u001b[1;32m    268\u001b[0m \u001b[38;5;66;03m# reversed_tensors will be None\u001b[39;00m\n\u001b[0;32m--> 269\u001b[0m reversed_input_tensors, reversed_tensors \u001b[38;5;241m=\u001b[39m \u001b[38;5;28;43mself\u001b[39;49m\u001b[38;5;241;43m.\u001b[39;49m\u001b[43m_reverse_model\u001b[49m\u001b[43m(\u001b[49m\n\u001b[1;32m    270\u001b[0m \u001b[43m    \u001b[49m\u001b[43mmodel\u001b[49m\u001b[43m,\u001b[49m\n\u001b[1;32m    271\u001b[0m \u001b[43m    \u001b[49m\u001b[43mstop_analysis_at_tensors\u001b[49m\u001b[38;5;241;43m=\u001b[39;49m\u001b[43mstop_analysis_at_tensors\u001b[49m\u001b[43m,\u001b[49m\n\u001b[1;32m    272\u001b[0m \u001b[43m    \u001b[49m\u001b[43mreturn_all_reversed_tensors\u001b[49m\u001b[38;5;241;43m=\u001b[39;49m\u001b[43mreturn_all_reversed_tensors\u001b[49m\u001b[43m,\u001b[49m\n\u001b[1;32m    273\u001b[0m \u001b[43m\u001b[49m\u001b[43m)\u001b[49m\n\u001b[1;32m    274\u001b[0m ret \u001b[38;5;241m=\u001b[39m \u001b[38;5;28mself\u001b[39m\u001b[38;5;241m.\u001b[39m_postprocess_analysis(reversed_input_tensors)\n\u001b[1;32m    276\u001b[0m \u001b[38;5;28;01mif\u001b[39;00m return_all_reversed_tensors:\n",
      "File \u001b[0;32m~/.local/lib/python3.9/site-packages/innvestigate/analyzer/reverse_base.py:242\u001b[0m, in \u001b[0;36mReverseAnalyzerBase._reverse_model\u001b[0;34m(self, model, stop_analysis_at_tensors, return_all_reversed_tensors)\u001b[0m\n\u001b[1;32m    239\u001b[0m \u001b[38;5;28;01mif\u001b[39;00m stop_analysis_at_tensors \u001b[38;5;129;01mis\u001b[39;00m \u001b[38;5;28;01mNone\u001b[39;00m:\n\u001b[1;32m    240\u001b[0m     stop_analysis_at_tensors \u001b[38;5;241m=\u001b[39m []\n\u001b[0;32m--> 242\u001b[0m \u001b[38;5;28;01mreturn\u001b[39;00m \u001b[43migraph\u001b[49m\u001b[38;5;241;43m.\u001b[39;49m\u001b[43mreverse_model\u001b[49m\u001b[43m(\u001b[49m\n\u001b[1;32m    243\u001b[0m \u001b[43m    \u001b[49m\u001b[43mmodel\u001b[49m\u001b[43m,\u001b[49m\n\u001b[1;32m    244\u001b[0m \u001b[43m    \u001b[49m\u001b[43mreverse_mappings\u001b[49m\u001b[38;5;241;43m=\u001b[39;49m\u001b[38;5;28;43mself\u001b[39;49m\u001b[38;5;241;43m.\u001b[39;49m\u001b[43m_reverse_mapping\u001b[49m\u001b[43m,\u001b[49m\n\u001b[1;32m    245\u001b[0m \u001b[43m    \u001b[49m\u001b[43mdefault_reverse_mapping\u001b[49m\u001b[38;5;241;43m=\u001b[39;49m\u001b[38;5;28;43mself\u001b[39;49m\u001b[38;5;241;43m.\u001b[39;49m\u001b[43m_default_reverse_mapping\u001b[49m\u001b[43m,\u001b[49m\n\u001b[1;32m    246\u001b[0m \u001b[43m    \u001b[49m\u001b[43mhead_mapping\u001b[49m\u001b[38;5;241;43m=\u001b[39;49m\u001b[38;5;28;43mself\u001b[39;49m\u001b[38;5;241;43m.\u001b[39;49m\u001b[43m_head_mapping\u001b[49m\u001b[43m,\u001b[49m\n\u001b[1;32m    247\u001b[0m \u001b[43m    \u001b[49m\u001b[43mstop_mapping_at_tensors\u001b[49m\u001b[38;5;241;43m=\u001b[39;49m\u001b[43mstop_analysis_at_tensors\u001b[49m\u001b[43m,\u001b[49m\n\u001b[1;32m    248\u001b[0m \u001b[43m    \u001b[49m\u001b[43mverbose\u001b[49m\u001b[38;5;241;43m=\u001b[39;49m\u001b[38;5;28;43mself\u001b[39;49m\u001b[38;5;241;43m.\u001b[39;49m\u001b[43m_reverse_verbose\u001b[49m\u001b[43m,\u001b[49m\n\u001b[1;32m    249\u001b[0m \u001b[43m    \u001b[49m\u001b[43mclip_all_reversed_tensors\u001b[49m\u001b[38;5;241;43m=\u001b[39;49m\u001b[38;5;28;43mself\u001b[39;49m\u001b[38;5;241;43m.\u001b[39;49m\u001b[43m_reverse_clip_values\u001b[49m\u001b[43m,\u001b[49m\n\u001b[1;32m    250\u001b[0m \u001b[43m    \u001b[49m\u001b[43mproject_bottleneck_tensors\u001b[49m\u001b[38;5;241;43m=\u001b[39;49m\u001b[38;5;28;43mself\u001b[39;49m\u001b[38;5;241;43m.\u001b[39;49m\u001b[43m_reverse_project_bottleneck_layers\u001b[49m\u001b[43m,\u001b[49m\n\u001b[1;32m    251\u001b[0m \u001b[43m    \u001b[49m\u001b[43mreturn_all_reversed_tensors\u001b[49m\u001b[38;5;241;43m=\u001b[39;49m\u001b[43mreturn_all_reversed_tensors\u001b[49m\u001b[43m,\u001b[49m\n\u001b[1;32m    252\u001b[0m \u001b[43m\u001b[49m\u001b[43m)\u001b[49m\n",
      "File \u001b[0;32m~/.local/lib/python3.9/site-packages/innvestigate/backend/graph.py:1137\u001b[0m, in \u001b[0;36mreverse_model\u001b[0;34m(model, reverse_mappings, default_reverse_mapping, head_mapping, stop_mapping_at_tensors, verbose, return_all_reversed_tensors, clip_all_reversed_tensors, project_bottleneck_tensors, execution_trace, reapply_on_copied_layers)\u001b[0m\n\u001b[1;32m   1135\u001b[0m \u001b[38;5;66;03m# Create a list with nodes in reverse execution order.\u001b[39;00m\n\u001b[1;32m   1136\u001b[0m \u001b[38;5;28;01mif\u001b[39;00m execution_trace \u001b[38;5;129;01mis\u001b[39;00m \u001b[38;5;28;01mNone\u001b[39;00m:\n\u001b[0;32m-> 1137\u001b[0m     execution_trace \u001b[38;5;241m=\u001b[39m \u001b[43mtrace_model_execution\u001b[49m\u001b[43m(\u001b[49m\n\u001b[1;32m   1138\u001b[0m \u001b[43m        \u001b[49m\u001b[43mmodel\u001b[49m\u001b[43m,\u001b[49m\u001b[43m \u001b[49m\u001b[43mreapply_on_copied_layers\u001b[49m\u001b[38;5;241;43m=\u001b[39;49m\u001b[43mreapply_on_copied_layers\u001b[49m\n\u001b[1;32m   1139\u001b[0m \u001b[43m    \u001b[49m\u001b[43m)\u001b[49m\n\u001b[1;32m   1140\u001b[0m layers, execution_list, outputs \u001b[38;5;241m=\u001b[39m execution_trace\n\u001b[1;32m   1141\u001b[0m reverse_execution_list \u001b[38;5;241m=\u001b[39m \u001b[38;5;28mreversed\u001b[39m(execution_list)\n",
      "File \u001b[0;32m~/.local/lib/python3.9/site-packages/innvestigate/backend/graph.py:561\u001b[0m, in \u001b[0;36mtrace_model_execution\u001b[0;34m(model, reapply_on_copied_layers)\u001b[0m\n\u001b[1;32m    548\u001b[0m \u001b[38;5;124;03m\"\"\"\u001b[39;00m\n\u001b[1;32m    549\u001b[0m \u001b[38;5;124;03mTrace and linearize excecution of a model and it's possible containers.\u001b[39;00m\n\u001b[1;32m    550\u001b[0m \u001b[38;5;124;03mReturn a triple with all layers, a list with a linearized execution\u001b[39;00m\n\u001b[0;32m   (...)\u001b[0m\n\u001b[1;32m    557\u001b[0m \u001b[38;5;124;03m  original layer's node lists.\u001b[39;00m\n\u001b[1;32m    558\u001b[0m \u001b[38;5;124;03m\"\"\"\u001b[39;00m\n\u001b[1;32m    560\u001b[0m \u001b[38;5;66;03m# Get all layers in model.\u001b[39;00m\n\u001b[0;32m--> 561\u001b[0m layers: \u001b[38;5;28mlist\u001b[39m[Layer] \u001b[38;5;241m=\u001b[39m \u001b[43mget_model_layers\u001b[49m\u001b[43m(\u001b[49m\u001b[43mmodel\u001b[49m\u001b[43m)\u001b[49m\n\u001b[1;32m    563\u001b[0m \u001b[38;5;66;03m# Check if some layers are containers.\u001b[39;00m\n\u001b[1;32m    564\u001b[0m \u001b[38;5;66;03m# Ignoring the outermost container, i.e. the passed model.\u001b[39;00m\n\u001b[1;32m    565\u001b[0m contains_container: \u001b[38;5;28mbool\u001b[39m \u001b[38;5;241m=\u001b[39m \u001b[38;5;28many\u001b[39m(\n\u001b[1;32m    566\u001b[0m     l \u001b[38;5;129;01mis\u001b[39;00m \u001b[38;5;129;01mnot\u001b[39;00m model \u001b[38;5;129;01mand\u001b[39;00m ichecks\u001b[38;5;241m.\u001b[39mis_module(l) \u001b[38;5;28;01mfor\u001b[39;00m l \u001b[38;5;129;01min\u001b[39;00m layers\n\u001b[1;32m    567\u001b[0m )\n",
      "File \u001b[0;32m~/.local/lib/python3.9/site-packages/innvestigate/backend/graph.py:385\u001b[0m, in \u001b[0;36mget_model_layers\u001b[0;34m(model)\u001b[0m\n\u001b[1;32m    382\u001b[0m         \u001b[38;5;28;01mif\u001b[39;00m ichecks\u001b[38;5;241m.\u001b[39mis_module(layer):\n\u001b[1;32m    383\u001b[0m             collect_layers(layer)\n\u001b[0;32m--> 385\u001b[0m \u001b[43mcollect_layers\u001b[49m\u001b[43m(\u001b[49m\u001b[43mmodel\u001b[49m\u001b[43m)\u001b[49m\n\u001b[1;32m    387\u001b[0m \u001b[38;5;28;01mreturn\u001b[39;00m layers\n",
      "File \u001b[0;32m~/.local/lib/python3.9/site-packages/innvestigate/backend/graph.py:378\u001b[0m, in \u001b[0;36mget_model_layers.<locals>.collect_layers\u001b[0;34m(container)\u001b[0m\n\u001b[1;32m    377\u001b[0m \u001b[38;5;28;01mdef\u001b[39;00m \u001b[38;5;21mcollect_layers\u001b[39m(container: Model) \u001b[38;5;241m-\u001b[39m\u001b[38;5;241m>\u001b[39m \u001b[38;5;28;01mNone\u001b[39;00m:\n\u001b[0;32m--> 378\u001b[0m     \u001b[38;5;28;01mfor\u001b[39;00m layer \u001b[38;5;129;01min\u001b[39;00m \u001b[43mcontainer\u001b[49m\u001b[38;5;241;43m.\u001b[39;49m\u001b[43mlayers\u001b[49m:\n\u001b[1;32m    379\u001b[0m         \u001b[38;5;28;01mif\u001b[39;00m layer \u001b[38;5;129;01min\u001b[39;00m layers:\n\u001b[1;32m    380\u001b[0m             \u001b[38;5;28;01mraise\u001b[39;00m \u001b[38;5;167;01mValueError\u001b[39;00m(\u001b[38;5;124mf\u001b[39m\u001b[38;5;124m\"\u001b[39m\u001b[38;5;124mCollected layer \u001b[39m\u001b[38;5;132;01m{\u001b[39;00mlayer\u001b[38;5;132;01m}\u001b[39;00m\u001b[38;5;124m twice.\u001b[39m\u001b[38;5;124m\"\u001b[39m)\n",
      "\u001b[0;31mAttributeError\u001b[0m: 'numpy.ndarray' object has no attribute 'layers'"
     ]
    }
   ],
   "source": [
    "# Add batch axis and preprocess\n",
    "x = preprocess(ppin)\n",
    "# Apply analyzer w.r.t. maximum activated output-neuron\n",
    "a = analyzer.analyze(x)\n",
    "\n",
    "# Aggregate along color channels and normalize to [-1, 1]\n",
    "a = a.sum(axis=np.argmax(np.asarray(a.shape) == 3))\n",
    "a /= np.max(np.abs(a))\n",
    "# Plot\n",
    "plt.imshow(a[0], cmap=\"seismic\", clim=(-1, 1))"
   ]
  },
  {
   "cell_type": "markdown",
   "id": "e0983e88",
   "metadata": {},
   "source": [
    "Create Analyzer\n",
    "#(no maxpooling and input layer)\n",
    "[ ]"
   ]
  },
  {
   "cell_type": "code",
   "execution_count": 60,
   "id": "4b0c9035",
   "metadata": {},
   "outputs": [],
   "source": [
    "class ruleHandler(ianalyzer.LRP):\n",
    "    \n",
    "    allLayer = [\"2_block1_conv3\",\"4_block2_conv4\",\"8_block3_conv5\",\"12_dense_2\",\"13_dense_3\"]\n",
    "    flatLayer = [\"0_input_layer\", \"2_block1_conv3\"]\n",
    "    alpha1Beta0Layer = [\"4_block2_conv4\",\"8_block3_conv5\"]\n",
    "    epsilonLayer = [\"12_dense_2\",\"13_dense_3\"]\n",
    "    lrpZeroLayer = [\"12_dense_2\",\"13_dense_3\"]\n",
    "    \n",
    "    def __init__(self, model, neuron_selection_mode=\"index\", *args, **kwargs):\n",
    "        print(\"Selected Costume Analyzer (CostumeVGG16)\")\n",
    "        _neuron_selection_mode = neuron_selection_mode\n",
    "\n",
    "        rules = [\n",
    "            (is_alpha1_beta0_rule_layer, irules.Alpha1Beta0Rule),\n",
    "            (is_epsilon_rule_layer, irules.ZRule),\n",
    "            (is_flat_rule_layer, irules.FlatRule),\n",
    "            (is_default, irules.ZRule) #always last or every layer will be assigned this rule\n",
    "        ]\n",
    "        super(ruleHandler, self).__init__(model, *args, neuron_selection_mode=_neuron_selection_mode, rule=rules, input_layer_rule=irules.FlatRule, **kwargs)\n",
    "    \n",
    "   \n",
    "    \n",
    "    def is_alpha1_beta0_rule_layer(layer, reverse_state):\n",
    "        print(\"Alpha: \" + str(layer.name) + \" -> \" + str(layer.name in alpha1Beta0Layer))\n",
    "        return layer.name in alpha1Beta0Layer\n",
    "\n",
    "\n",
    "    def is_epsilon_rule_layer(layer, reverse_state):\n",
    "        print(\"Epsilon: \" + str(layer.name) + \" -> \" + str(layer.name in epsilonLayer))\n",
    "        return layer.name in epsilonLayer\n",
    "\n",
    "\n",
    "    def is_flat_rule_layer(layer, reverse_state):\n",
    "        print(\"Flat: \" + str(layer.name) + \" -> \" + str(layer.name in flatLayer))\n",
    "        return layer.name in flatLayer\n",
    "\n",
    "\n",
    "    def is_default(layer, reverse_state):\n",
    "        print(\"Default: \" + str(layer.name))\n",
    "        return True\n",
    "    \n",
    " "
   ]
  },
  {
   "cell_type": "code",
   "execution_count": null,
   "id": "800a6adf",
   "metadata": {},
   "outputs": [],
   "source": [
    "class lrpHandler:\n",
    "    R_MAP_GENERATION_MODE = [\n",
    "        \"ALL\", # generate relevance map for every AU for every image\n",
    "        \"ONLY RELEVANT\", #only generate relvance map is AU is either in ground truth or predicted by network\n",
    "        \"ONLY PREDICTED\" #only if network predicts AU is active\n",
    "    ]\n",
    "\n",
    "    def __init__(self, app_state: AppState, on_complete: Callable = None, progress_update: Callable[[int, str], None] = None):\n",
    "        self.app_state = app_state\n",
    "        self.progress_update = progress_update\n",
    "        self.on_complete = on_complete\n",
    "\n",
    "        # Get set each time at before analysis\n",
    "        self.sequences = None\n",
    "        self.model = None\n",
    "        self.modelPath = None\n",
    "        self.modelOutput = None\n",
    "        self.analyzer = None\n",
    "        self.outPath = None\n",
    "        self.relevanceAnchorPath = None\n",
    "        self.rMapGenerationMode = \"ALL\"\n",
    "   \n",
    "    "
   ]
  }
 ],
 "metadata": {
  "kernelspec": {
   "display_name": "Python 3 (ipykernel)",
   "language": "python",
   "name": "python3"
  },
  "language_info": {
   "codemirror_mode": {
    "name": "ipython",
    "version": 3
   },
   "file_extension": ".py",
   "mimetype": "text/x-python",
   "name": "python",
   "nbconvert_exporter": "python",
   "pygments_lexer": "ipython3",
   "version": "3.9.2"
  }
 },
 "nbformat": 4,
 "nbformat_minor": 5
}
